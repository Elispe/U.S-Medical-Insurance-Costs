{
 "cells": [
  {
   "cell_type": "markdown",
   "metadata": {},
   "source": [
    "# U.S. Medical Insurance Costs"
   ]
  },
  {
   "cell_type": "markdown",
   "metadata": {},
   "source": [
    "This projects builds on a set of data (insurance.csv) on yearly medical insurance costs and corresponding patient parameters like: age, sex, BMI, number of children, smoking status and region of proveniece in the USA.\n",
    "The goal with this project is to look for patterns among these parameters and to investigate how they influence the insurance costs."
   ]
  },
  {
   "cell_type": "code",
   "execution_count": 1,
   "metadata": {},
   "outputs": [],
   "source": [
    "#import csv library\n",
    "import csv"
   ]
  },
  {
   "cell_type": "code",
   "execution_count": 87,
   "metadata": {},
   "outputs": [],
   "source": [
    "#create empty lists to store the data, one per column in the insurance.csv file\n",
    "ages = []\n",
    "sex = []\n",
    "bmi = []\n",
    "num_children = []\n",
    "smoker = []\n",
    "regions = []\n",
    "charges = []\n",
    "\n",
    "#define a function that given the insurance.csv file, stores each column data in a new list\n",
    "def store_data (list_name, key_name):\n",
    "    with open('insurance.csv') as insurance_file:\n",
    "        insurance = csv.DictReader(insurance_file)\n",
    "        for i in insurance:\n",
    "            list_name.append(i[key_name])\n",
    "    \n",
    "#load data in the various lists\n",
    "store_data(ages,'age')\n",
    "store_data(sex,'sex')\n",
    "store_data(bmi,'bmi')\n",
    "store_data(num_children,'children')\n",
    "store_data(smoker,'smoker')\n",
    "store_data(regions,'region')\n",
    "store_data(charges,'charges')"
   ]
  },
  {
   "cell_type": "markdown",
   "metadata": {},
   "source": [
    "All data are well organized, the analysis can start!\n",
    "Note that values are stored as strings in all lists."
   ]
  },
  {
   "cell_type": "code",
   "execution_count": 274,
   "metadata": {},
   "outputs": [],
   "source": [
    "#create a class that contains the needed methods to perform the data analysis\n",
    "class Patient:\n",
    "    #constructor\n",
    "    def __init__(self, ages, sex, bmi, num_children, smoker, regions, charges):\n",
    "        self.age = ages\n",
    "        self.sex = sex\n",
    "        self.bmi = bmi\n",
    "        self.children = num_children\n",
    "        self.smoker = smoker\n",
    "        self.region = regions\n",
    "        self.charge = charges\n",
    "\n",
    "    #define a method that calculate the average age\n",
    "    def avg_age(self):\n",
    "        sum_values = 0\n",
    "        for i in self.age:\n",
    "            sum_values += int(i)\n",
    "\n",
    "        print('Average age of patients in this study: ' + str(round(sum_values/len(self.age),2)) + ' years.')\n",
    "    \n",
    "    #define a method that calculate the average insurance consts per year\n",
    "    def avg_insurance(self):\n",
    "        sum_values = 0\n",
    "        for i in self.charge:\n",
    "            sum_values += float(i)\n",
    "\n",
    "        print('Average insurance costs: ' + str(round(sum_values/len(self.charge),2)) + ' dollars per year.')\n",
    "    \n",
    "    \n",
    "    #define a method to check if there is a good balance between female/male patients \n",
    "    def balance_sex(self):\n",
    "        men_tot = 0\n",
    "        women_tot = 0\n",
    "        for i in self.sex:\n",
    "            if i == \"male\":\n",
    "                men_tot += 1\n",
    "            else:\n",
    "                women_tot += 1\n",
    "        print('This dataset contains info on {women} women and {men} men.'.format(women = women_tot, men = men_tot))\n",
    "    \n",
    "    #define a method that finds distinct region of provenience \n",
    "    def find_regions(self):\n",
    "        distinct_reg = []\n",
    "        for i in self.region:\n",
    "            if i not in distinct_reg:\n",
    "                distinct_reg.append(i)\n",
    "\n",
    "        print(distinct_reg)\n",
    "        \n",
    "    #def a method to check the distribution of data across USA regions  \n",
    "    def distr_regions(self):\n",
    "        nw_tot = 0\n",
    "        ne_tot = 0\n",
    "        sw_tot = 0\n",
    "        se_tot = 0\n",
    "\n",
    "        for i in self.region:\n",
    "            if i == 'southwest':\n",
    "                sw_tot += 1\n",
    "            elif i == 'southeast':\n",
    "                se_tot += 1\n",
    "            elif i == 'northeast':\n",
    "                ne_tot += 1\n",
    "            else:\n",
    "                nw_tot += 1\n",
    "        \n",
    "        print('Data provenience: {nw} from northwest, {ne} from northeast, {sw} from southwest and {se} from southeast.'. format(nw = nw_tot, ne= ne_tot, sw= sw_tot, se= se_tot))\n",
    "    \n",
    "    #define a method that count the smokers\n",
    "    def smokers_num(self):\n",
    "        count = 0\n",
    "        for i in self.smoker:\n",
    "            if i == 'yes':\n",
    "                count += 1\n",
    "\n",
    "        print('Total number of smokers: ' + str(count) + ' out of ' + str(len(self.smoker)) + ' people.')\n",
    "        return count\n",
    "        \n",
    "    #define a method that constructs a dictionary containing all patients' info\n",
    "    def create_dict(self):\n",
    "        self.patients_dict = {}\n",
    "        self.patients_dict['age'] = [int(i) for i in self.age]\n",
    "        self.patients_dict[\"sex\"] = self.sex\n",
    "        self.patients_dict[\"bmi\"] = self.bmi\n",
    "        self.patients_dict[\"children\"] = self.children\n",
    "        self.patients_dict[\"smoker\"] = self.smoker\n",
    "        self.patients_dict[\"region\"] = self.region\n",
    "        self.patients_dict[\"charges\"] = [float(i) for i in self.charge]\n",
    "        return self.patients_dict\n",
    "\n",
    "        \n",
    "    def age_parents_one_child(self, patient_dict):\n",
    "        sum_age = 0\n",
    "        one_kid_parent = 0\n",
    "        for i in range(len(self.age)):\n",
    "            if patient_dict['children'][i] != '1':\n",
    "                continue\n",
    "            sum_age += patient_dict['age'][i]\n",
    "            one_kid_parent += 1\n",
    "\n",
    "        avg_age_parent = sum_age/one_kid_parent\n",
    "\n",
    "        print('Average age of people having 1 child: ' + str(round(avg_age_parent,2)) + ' years.')\n",
    "        print(str(one_kid_parent) + ' persons out of ' + str(len(self.age)) + ' have 1 child')\n",
    "        \n",
    "    \n",
    "    "
   ]
  },
  {
   "cell_type": "code",
   "execution_count": 275,
   "metadata": {},
   "outputs": [],
   "source": [
    "patient = Patient(ages, sex, bmi, num_children, smoker, regions, charges)"
   ]
  },
  {
   "cell_type": "code",
   "execution_count": 276,
   "metadata": {},
   "outputs": [
    {
     "name": "stdout",
     "output_type": "stream",
     "text": [
      "Average age of patients in this study: 39.21 years.\n"
     ]
    }
   ],
   "source": [
    "patient.avg_age()"
   ]
  },
  {
   "cell_type": "code",
   "execution_count": 207,
   "metadata": {},
   "outputs": [
    {
     "name": "stdout",
     "output_type": "stream",
     "text": [
      "Average insurance costs: 13270.42 dollars per year.\n"
     ]
    }
   ],
   "source": [
    "patient.avg_insurance()"
   ]
  },
  {
   "cell_type": "markdown",
   "metadata": {},
   "source": [
    "Check if there is a good balance between female/male patients:"
   ]
  },
  {
   "cell_type": "code",
   "execution_count": 200,
   "metadata": {},
   "outputs": [
    {
     "name": "stdout",
     "output_type": "stream",
     "text": [
      "This dataset contains info on 662 women and 676 men.\n"
     ]
    }
   ],
   "source": [
    "patient.balance_sex()"
   ]
  },
  {
   "cell_type": "markdown",
   "metadata": {},
   "source": [
    "Create a dictionaty that contains all patients' info:"
   ]
  },
  {
   "cell_type": "code",
   "execution_count": 259,
   "metadata": {},
   "outputs": [],
   "source": [
    "patient_dict = patient.create_dict()"
   ]
  },
  {
   "cell_type": "markdown",
   "metadata": {},
   "source": [
    "Investigate from where the data come from:"
   ]
  },
  {
   "cell_type": "code",
   "execution_count": 201,
   "metadata": {},
   "outputs": [
    {
     "name": "stdout",
     "output_type": "stream",
     "text": [
      "['southwest', 'southeast', 'northwest', 'northeast']\n"
     ]
    }
   ],
   "source": [
    "patient.find_regions()"
   ]
  },
  {
   "cell_type": "code",
   "execution_count": 256,
   "metadata": {},
   "outputs": [
    {
     "name": "stdout",
     "output_type": "stream",
     "text": [
      "Data provenience: 325 from northwest, 324 from northeast, 325 from southwest and 364 from southeast.\n"
     ]
    }
   ],
   "source": [
    "patient.distr_regions()"
   ]
  },
  {
   "cell_type": "markdown",
   "metadata": {},
   "source": [
    "The majority comes from the southeast region (ca 40 more), otherwise balanced distribution."
   ]
  },
  {
   "cell_type": "markdown",
   "metadata": {},
   "source": [
    "Find the average age of patients with ONE kid (at the time of data-taking):"
   ]
  },
  {
   "cell_type": "code",
   "execution_count": 278,
   "metadata": {},
   "outputs": [
    {
     "name": "stdout",
     "output_type": "stream",
     "text": [
      "Average age of people having 1 child: 39.45 years.\n",
      "324 persons out of 1338 have 1 child\n"
     ]
    }
   ],
   "source": [
    "patient.age_parents_one_child(patient_dict)"
   ]
  },
  {
   "cell_type": "markdown",
   "metadata": {},
   "source": [
    "Compare insurance costs of smokers vs non-smokers"
   ]
  },
  {
   "cell_type": "code",
   "execution_count": 234,
   "metadata": {},
   "outputs": [
    {
     "name": "stdout",
     "output_type": "stream",
     "text": [
      "In average a smoker pays in insurance costs 23615.96 dollars more than a non-smoker.\n"
     ]
    }
   ],
   "source": [
    "smoker_costs = 0\n",
    "non_smoker_costs = 0\n",
    "count_non_smokers = 0\n",
    "count_smokers = 0\n",
    "\n",
    "for i in range(len(smoker)):\n",
    "    if smoker[i] == 'yes':\n",
    "        smoker_costs += float(charges[i])\n",
    "        count_smokers += 1\n",
    "    else:\n",
    "        non_smoker_costs += float(charges[i])\n",
    "        count_non_smokers += 1\n",
    "        \n",
    "diff = round(smoker_costs/count_smokers - non_smoker_costs/count_non_smokers,2)\n",
    "        \n",
    "print('In average a smoker pays in insurance costs {diff} dollars more than a non-smoker.'.format(diff = diff))\n",
    "    "
   ]
  },
  {
   "cell_type": "code",
   "execution_count": 252,
   "metadata": {},
   "outputs": [
    {
     "name": "stdout",
     "output_type": "stream",
     "text": [
      "Total number of smokers: 274 out of 1338 people.\n"
     ]
    }
   ],
   "source": [
    "count = patient.smokers_num()"
   ]
  },
  {
   "cell_type": "markdown",
   "metadata": {},
   "source": [
    "Do smokers tend to have NO children?"
   ]
  },
  {
   "cell_type": "code",
   "execution_count": 253,
   "metadata": {},
   "outputs": [
    {
     "name": "stdout",
     "output_type": "stream",
     "text": [
      "Out of 274 smokers, 159 have kids. This correspond to 58.03% of the smokers\n",
      "Out of 1064 non-smokers, 605 have kids. This correspond to 56.86% of the non-smokers\n"
     ]
    }
   ],
   "source": [
    "smokers_w_kids = 0\n",
    "non_smokers_w_kids = 0\n",
    "for i in range(len(smoker)):\n",
    "    if num_children[i] != '0':\n",
    "        if smoker[i] == 'yes':\n",
    "            smokers_w_kids += 1\n",
    "        else:\n",
    "            non_smokers_w_kids += 1\n",
    "\n",
    "print('Out of {count} smokers, {smokers_w_kids} have kids. This correspond to {percent}% of the smokers'.format(count = count, smokers_w_kids = smokers_w_kids, percent = round(smokers_w_kids*100/count,2)))\n",
    "print('Out of {count} non-smokers, {non_smokers_w_kids} have kids. This correspond to {percent}% of the non-smokers'.format(count = len(ages) - count, non_smokers_w_kids = non_smokers_w_kids, percent = round(non_smokers_w_kids*100/(len(ages) -count),2)))"
   ]
  },
  {
   "cell_type": "markdown",
   "metadata": {},
   "source": [
    "Smokers seems to chose to have kids in the same measure as non-smokers"
   ]
  },
  {
   "cell_type": "markdown",
   "metadata": {},
   "source": [
    "In which region are insurance costs higher in average?"
   ]
  },
  {
   "cell_type": "code",
   "execution_count": 236,
   "metadata": {},
   "outputs": [
    {
     "name": "stdout",
     "output_type": "stream",
     "text": [
      "Average insurance cost in the SE region: 14735.41, in the SW region: 12346.94, in the NE region: 13406.38 and in the NW region: 12417.58 dollars\n"
     ]
    }
   ],
   "source": [
    "costs_se = 0\n",
    "costs_sw = 0\n",
    "costs_ne = 0\n",
    "costs_nw = 0\n",
    "for i in range(len(regions)):\n",
    "    if regions[i] == 'southeast':\n",
    "        costs_se += float(charges[i])\n",
    "    elif regions[i] == 'southwest':\n",
    "        costs_sw += float(charges[i])\n",
    "    elif regions[i] == 'northeast':\n",
    "        costs_ne += float(charges[i])\n",
    "    else:\n",
    "        costs_nw += float(charges[i])\n",
    "        \n",
    "print('Average insurance cost in the SE region: {se}, in the SW region: {sw}, in the NE region: {ne} and in the NW region: {nw} dollars'.format(sw = round(costs_sw/sw_tot,2), nw=round(costs_nw/nw_tot,2), se=round(costs_se/se_tot,2), ne=round(costs_ne/ne_tot,2)))\n",
    "        "
   ]
  },
  {
   "cell_type": "markdown",
   "metadata": {},
   "source": [
    "Highest costs in the SE region, followed by NE."
   ]
  },
  {
   "cell_type": "code",
   "execution_count": null,
   "metadata": {},
   "outputs": [],
   "source": []
  }
 ],
 "metadata": {
  "kernelspec": {
   "display_name": "Python 3",
   "language": "python",
   "name": "python3"
  },
  "language_info": {
   "codemirror_mode": {
    "name": "ipython",
    "version": 3
   },
   "file_extension": ".py",
   "mimetype": "text/x-python",
   "name": "python",
   "nbconvert_exporter": "python",
   "pygments_lexer": "ipython3",
   "version": "3.8.5"
  }
 },
 "nbformat": 4,
 "nbformat_minor": 4
}
